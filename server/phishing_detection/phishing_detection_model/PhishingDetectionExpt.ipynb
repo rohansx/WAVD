{
 "cells": [
  {
   "cell_type": "markdown",
   "metadata": {},
   "source": [
    "# Phishing Website Detection\n",
    "\n",
    "In this notebook, we use the [UCI Phishing Websites Dataset](https://archive.ics.uci.edu/ml/datasets/phishing+websites) to train various ML models & validate their performance on classifying websites as *phishing (-1)* or *legitimate (1)* based on a number of features extracted from the website & URL as indicated in [this paper](https://www.researchgate.net/publication/261636543_Intelligent_Rule_based_Phishing_Websites_Classification).\n",
    "\n",
    "For all features & result, the following holds:\n",
    "\n",
    "- 1  => Legitimate\n",
    "- 0  => Suspicious\n",
    "- -1 => Phishy"
   ]
  },
  {
   "cell_type": "markdown",
   "metadata": {},
   "source": [
    "## Loading the Dataset & Creating the Training-Validation Split"
   ]
  },
  {
   "cell_type": "code",
   "execution_count": 1,
   "metadata": {},
   "outputs": [],
   "source": [
    "import pandas as pd\n",
    "import numpy as np\n",
    "import matplotlib.pyplot as plt\n",
    "from sklearn.model_selection import train_test_split\n",
    "from sklearn.metrics import accuracy_score, precision_recall_fscore_support"
   ]
  },
  {
   "cell_type": "code",
   "execution_count": 2,
   "metadata": {
    "scrolled": true
   },
   "outputs": [
    {
     "data": {
      "text/html": [
       "<div>\n",
       "<style scoped>\n",
       "    .dataframe tbody tr th:only-of-type {\n",
       "        vertical-align: middle;\n",
       "    }\n",
       "\n",
       "    .dataframe tbody tr th {\n",
       "        vertical-align: top;\n",
       "    }\n",
       "\n",
       "    .dataframe thead th {\n",
       "        text-align: right;\n",
       "    }\n",
       "</style>\n",
       "<table border=\"1\" class=\"dataframe\">\n",
       "  <thead>\n",
       "    <tr style=\"text-align: right;\">\n",
       "      <th></th>\n",
       "      <th>having_IP_Address</th>\n",
       "      <th>URL_Length</th>\n",
       "      <th>Shortining_Service</th>\n",
       "      <th>having_At_Symbol</th>\n",
       "      <th>double_slash_redirecting</th>\n",
       "      <th>Prefix_Suffix</th>\n",
       "      <th>having_Sub_Domain</th>\n",
       "      <th>SSLfinal_State</th>\n",
       "      <th>Domain_registeration_length</th>\n",
       "      <th>Favicon</th>\n",
       "      <th>...</th>\n",
       "      <th>popUpWidnow</th>\n",
       "      <th>Iframe</th>\n",
       "      <th>age_of_domain</th>\n",
       "      <th>DNSRecord</th>\n",
       "      <th>web_traffic</th>\n",
       "      <th>Page_Rank</th>\n",
       "      <th>Google_Index</th>\n",
       "      <th>Links_pointing_to_page</th>\n",
       "      <th>Statistical_report</th>\n",
       "      <th>Result</th>\n",
       "    </tr>\n",
       "  </thead>\n",
       "  <tbody>\n",
       "    <tr>\n",
       "      <th>0</th>\n",
       "      <td>-1</td>\n",
       "      <td>1</td>\n",
       "      <td>1</td>\n",
       "      <td>1</td>\n",
       "      <td>-1</td>\n",
       "      <td>-1</td>\n",
       "      <td>-1</td>\n",
       "      <td>-1</td>\n",
       "      <td>-1</td>\n",
       "      <td>1</td>\n",
       "      <td>...</td>\n",
       "      <td>1</td>\n",
       "      <td>1</td>\n",
       "      <td>-1</td>\n",
       "      <td>-1</td>\n",
       "      <td>-1</td>\n",
       "      <td>-1</td>\n",
       "      <td>1</td>\n",
       "      <td>1</td>\n",
       "      <td>-1</td>\n",
       "      <td>-1</td>\n",
       "    </tr>\n",
       "    <tr>\n",
       "      <th>1</th>\n",
       "      <td>1</td>\n",
       "      <td>1</td>\n",
       "      <td>1</td>\n",
       "      <td>1</td>\n",
       "      <td>1</td>\n",
       "      <td>-1</td>\n",
       "      <td>0</td>\n",
       "      <td>1</td>\n",
       "      <td>-1</td>\n",
       "      <td>1</td>\n",
       "      <td>...</td>\n",
       "      <td>1</td>\n",
       "      <td>1</td>\n",
       "      <td>-1</td>\n",
       "      <td>-1</td>\n",
       "      <td>0</td>\n",
       "      <td>-1</td>\n",
       "      <td>1</td>\n",
       "      <td>1</td>\n",
       "      <td>1</td>\n",
       "      <td>-1</td>\n",
       "    </tr>\n",
       "    <tr>\n",
       "      <th>2</th>\n",
       "      <td>1</td>\n",
       "      <td>0</td>\n",
       "      <td>1</td>\n",
       "      <td>1</td>\n",
       "      <td>1</td>\n",
       "      <td>-1</td>\n",
       "      <td>-1</td>\n",
       "      <td>-1</td>\n",
       "      <td>-1</td>\n",
       "      <td>1</td>\n",
       "      <td>...</td>\n",
       "      <td>1</td>\n",
       "      <td>1</td>\n",
       "      <td>1</td>\n",
       "      <td>-1</td>\n",
       "      <td>1</td>\n",
       "      <td>-1</td>\n",
       "      <td>1</td>\n",
       "      <td>0</td>\n",
       "      <td>-1</td>\n",
       "      <td>-1</td>\n",
       "    </tr>\n",
       "    <tr>\n",
       "      <th>3</th>\n",
       "      <td>1</td>\n",
       "      <td>0</td>\n",
       "      <td>1</td>\n",
       "      <td>1</td>\n",
       "      <td>1</td>\n",
       "      <td>-1</td>\n",
       "      <td>-1</td>\n",
       "      <td>-1</td>\n",
       "      <td>1</td>\n",
       "      <td>1</td>\n",
       "      <td>...</td>\n",
       "      <td>1</td>\n",
       "      <td>1</td>\n",
       "      <td>-1</td>\n",
       "      <td>-1</td>\n",
       "      <td>1</td>\n",
       "      <td>-1</td>\n",
       "      <td>1</td>\n",
       "      <td>-1</td>\n",
       "      <td>1</td>\n",
       "      <td>-1</td>\n",
       "    </tr>\n",
       "    <tr>\n",
       "      <th>4</th>\n",
       "      <td>1</td>\n",
       "      <td>0</td>\n",
       "      <td>-1</td>\n",
       "      <td>1</td>\n",
       "      <td>1</td>\n",
       "      <td>-1</td>\n",
       "      <td>1</td>\n",
       "      <td>1</td>\n",
       "      <td>-1</td>\n",
       "      <td>1</td>\n",
       "      <td>...</td>\n",
       "      <td>-1</td>\n",
       "      <td>1</td>\n",
       "      <td>-1</td>\n",
       "      <td>-1</td>\n",
       "      <td>0</td>\n",
       "      <td>-1</td>\n",
       "      <td>1</td>\n",
       "      <td>1</td>\n",
       "      <td>1</td>\n",
       "      <td>1</td>\n",
       "    </tr>\n",
       "  </tbody>\n",
       "</table>\n",
       "<p>5 rows × 31 columns</p>\n",
       "</div>"
      ],
      "text/plain": [
       "   having_IP_Address  URL_Length  Shortining_Service  having_At_Symbol  \\\n",
       "0                 -1           1                   1                 1   \n",
       "1                  1           1                   1                 1   \n",
       "2                  1           0                   1                 1   \n",
       "3                  1           0                   1                 1   \n",
       "4                  1           0                  -1                 1   \n",
       "\n",
       "   double_slash_redirecting  Prefix_Suffix  having_Sub_Domain  SSLfinal_State  \\\n",
       "0                        -1             -1                 -1              -1   \n",
       "1                         1             -1                  0               1   \n",
       "2                         1             -1                 -1              -1   \n",
       "3                         1             -1                 -1              -1   \n",
       "4                         1             -1                  1               1   \n",
       "\n",
       "   Domain_registeration_length  Favicon  ...  popUpWidnow  Iframe  \\\n",
       "0                           -1        1  ...            1       1   \n",
       "1                           -1        1  ...            1       1   \n",
       "2                           -1        1  ...            1       1   \n",
       "3                            1        1  ...            1       1   \n",
       "4                           -1        1  ...           -1       1   \n",
       "\n",
       "   age_of_domain  DNSRecord  web_traffic  Page_Rank  Google_Index  \\\n",
       "0             -1         -1           -1         -1             1   \n",
       "1             -1         -1            0         -1             1   \n",
       "2              1         -1            1         -1             1   \n",
       "3             -1         -1            1         -1             1   \n",
       "4             -1         -1            0         -1             1   \n",
       "\n",
       "   Links_pointing_to_page  Statistical_report  Result  \n",
       "0                       1                  -1      -1  \n",
       "1                       1                   1      -1  \n",
       "2                       0                  -1      -1  \n",
       "3                      -1                   1      -1  \n",
       "4                       1                   1       1  \n",
       "\n",
       "[5 rows x 31 columns]"
      ]
     },
     "execution_count": 2,
     "metadata": {},
     "output_type": "execute_result"
    }
   ],
   "source": [
    "df = pd.read_csv(\"uci_phishing_websites_dataset.csv\")\n",
    "df.head()"
   ]
  },
  {
   "cell_type": "code",
   "execution_count": 3,
   "metadata": {},
   "outputs": [
    {
     "name": "stdout",
     "output_type": "stream",
     "text": [
      "(11055, 30) (11055,)\n"
     ]
    }
   ],
   "source": [
    "X = df.values[:, :-1]\n",
    "y = df.values[:, -1]\n",
    "\n",
    "print(X.shape, y.shape)"
   ]
  },
  {
   "cell_type": "code",
   "execution_count": 6,
   "metadata": {},
   "outputs": [
    {
     "name": "stdout",
     "output_type": "stream",
     "text": [
      "(8844, 30) (2211, 30) (8844,) (2211,)\n"
     ]
    }
   ],
   "source": [
    "X_train, X_valid, y_train, y_valid = train_test_split(X, y, test_size=0.2, random_state=42)\n",
    "print(X_train.shape, X_valid.shape, y_train.shape, y_valid.shape)"
   ]
  },
  {
   "cell_type": "code",
   "execution_count": 21,
   "metadata": {},
   "outputs": [
    {
     "name": "stdout",
     "output_type": "stream",
     "text": [
      "(array([-1,  1], dtype=int64), array([3942, 4902], dtype=int64))\n",
      "(array([-1,  1], dtype=int64), array([ 956, 1255], dtype=int64))\n"
     ]
    }
   ],
   "source": [
    "print(np.unique(y_train, return_counts=True))\n",
    "print(np.unique(y_valid, return_counts=True))"
   ]
  },
  {
   "cell_type": "markdown",
   "metadata": {},
   "source": [
    "## Experimenting with Different ML Models:\n",
    "\n",
    "### SVM:"
   ]
  },
  {
   "cell_type": "code",
   "execution_count": 39,
   "metadata": {},
   "outputs": [
    {
     "name": "stdout",
     "output_type": "stream",
     "text": [
      "Linear Kernel SVMs\n",
      "====================================\n",
      "[C = 0.0001]\t Accuracy: 90.64%\t Precision: 0.89\t Recall: 0.95\t F1 Score: 0.92\n",
      "[C = 0.0003]\t Accuracy: 91.45%\t Precision: 0.90\t Recall: 0.95\t F1 Score: 0.93\n",
      "[C = 0.0010]\t Accuracy: 91.95%\t Precision: 0.91\t Recall: 0.95\t F1 Score: 0.93\n",
      "[C = 0.0032]\t Accuracy: 92.36%\t Precision: 0.92\t Recall: 0.95\t F1 Score: 0.93\n",
      "[C = 0.0100]\t Accuracy: 92.67%\t Precision: 0.92\t Recall: 0.95\t F1 Score: 0.94\n",
      "[C = 0.0316]\t Accuracy: 92.58%\t Precision: 0.92\t Recall: 0.95\t F1 Score: 0.94\n",
      "[C = 0.1000]\t Accuracy: 92.72%\t Precision: 0.92\t Recall: 0.95\t F1 Score: 0.94\n",
      "[C = 0.3162]\t Accuracy: 92.81%\t Precision: 0.93\t Recall: 0.95\t F1 Score: 0.94\n",
      "[C = 1.0000]\t Accuracy: 92.85%\t Precision: 0.93\t Recall: 0.95\t F1 Score: 0.94\n",
      "[C = 3.1623]\t Accuracy: 92.85%\t Precision: 0.93\t Recall: 0.95\t F1 Score: 0.94\n",
      "[C = 10.0000]\t Accuracy: 92.85%\t Precision: 0.93\t Recall: 0.95\t F1 Score: 0.94\n"
     ]
    }
   ],
   "source": [
    "from sklearn.svm import SVC\n",
    "\n",
    "# Linear Kernel SVMs\n",
    "print(\"Linear Kernel SVMs\\n====================================\")\n",
    "for c in np.logspace(-4, 1, 11):\n",
    "    clf = SVC(C=c, kernel=\"linear\", random_state=42)\n",
    "    clf.fit(X_train, y_train)\n",
    "    \n",
    "    y_pred = clf.predict(X_valid)\n",
    "    acc = accuracy_score(y_valid, y_pred)*100\n",
    "    p, r, f1, _ = precision_recall_fscore_support(y_valid, y_pred, average=\"binary\")\n",
    "    print(\"[C = %.4f]\\t Accuracy: %.2f%%\\t Precision: %.2f\\t Recall: %.2f\\t F1 Score: %.2f\" % (c, acc, p, r, f1))\n",
    "    "
   ]
  },
  {
   "cell_type": "markdown",
   "metadata": {},
   "source": [
    "#### For best model: C = 1 (Accuracy = 92.85% & F1 Score = 0.94)"
   ]
  },
  {
   "cell_type": "code",
   "execution_count": 42,
   "metadata": {},
   "outputs": [
    {
     "name": "stdout",
     "output_type": "stream",
     "text": [
      "RBF Kernel SVMs\n",
      "====================================\n",
      "[C = 0.0010]\t Accuracy: 56.76%\t Precision: 0.57\t Recall: 1.00\t F1 Score: 0.72\n",
      "[C = 0.0032]\t Accuracy: 84.31%\t Precision: 0.80\t Recall: 0.97\t F1 Score: 0.88\n",
      "[C = 0.0100]\t Accuracy: 91.45%\t Precision: 0.90\t Recall: 0.96\t F1 Score: 0.93\n",
      "[C = 0.0316]\t Accuracy: 92.49%\t Precision: 0.92\t Recall: 0.95\t F1 Score: 0.94\n",
      "[C = 0.1000]\t Accuracy: 92.94%\t Precision: 0.92\t Recall: 0.95\t F1 Score: 0.94\n",
      "[C = 0.3162]\t Accuracy: 94.08%\t Precision: 0.93\t Recall: 0.96\t F1 Score: 0.95\n",
      "[C = 1.0000]\t Accuracy: 94.71%\t Precision: 0.94\t Recall: 0.97\t F1 Score: 0.95\n",
      "[C = 3.1623]\t Accuracy: 95.61%\t Precision: 0.95\t Recall: 0.97\t F1 Score: 0.96\n",
      "[C = 10.0000]\t Accuracy: 96.25%\t Precision: 0.96\t Recall: 0.98\t F1 Score: 0.97\n",
      "[C = 31.6228]\t Accuracy: 96.29%\t Precision: 0.96\t Recall: 0.98\t F1 Score: 0.97\n",
      "[C = 100.0000]\t Accuracy: 96.47%\t Precision: 0.96\t Recall: 0.98\t F1 Score: 0.97\n",
      "[C = 316.2278]\t Accuracy: 96.29%\t Precision: 0.96\t Recall: 0.98\t F1 Score: 0.97\n",
      "[C = 1000.0000]\t Accuracy: 96.38%\t Precision: 0.96\t Recall: 0.98\t F1 Score: 0.97\n"
     ]
    }
   ],
   "source": [
    "# RBF Kernel SVMs\n",
    "print(\"RBF Kernel SVMs\\n====================================\")\n",
    "for c in np.logspace(-3, 3, 13):\n",
    "    clf = SVC(C=c, kernel=\"rbf\", random_state=42)\n",
    "    clf.fit(X_train, y_train)\n",
    "    \n",
    "    y_pred = clf.predict(X_valid)\n",
    "    acc = accuracy_score(y_valid, y_pred)*100\n",
    "    p, r, f1, _ = precision_recall_fscore_support(y_valid, y_pred, average=\"binary\")\n",
    "    print(\"[C = %.4f]\\t Accuracy: %.2f%%\\t Precision: %.2f\\t Recall: %.2f\\t F1 Score: %.2f\" % (c, acc, p, r, f1))\n",
    "    "
   ]
  },
  {
   "cell_type": "markdown",
   "metadata": {},
   "source": [
    "#### For best model: C = 100 (Accuracy = 96.47% & F1 Score = 0.97)"
   ]
  },
  {
   "cell_type": "markdown",
   "metadata": {},
   "source": [
    "### k-NN Classifier:"
   ]
  },
  {
   "cell_type": "code",
   "execution_count": 53,
   "metadata": {},
   "outputs": [
    {
     "name": "stdout",
     "output_type": "stream",
     "text": [
      "k-NN Classifiers\n",
      "====================================\n",
      "[k = 1]\t Accuracy: 95.43%\t Precision: 0.95\t Recall: 0.97\t F1 Score: 0.96\n",
      "[k = 2]\t Accuracy: 94.08%\t Precision: 0.97\t Recall: 0.93\t F1 Score: 0.95\n",
      "[k = 3]\t Accuracy: 94.30%\t Precision: 0.94\t Recall: 0.96\t F1 Score: 0.95\n",
      "[k = 4]\t Accuracy: 93.53%\t Precision: 0.96\t Recall: 0.93\t F1 Score: 0.94\n",
      "[k = 5]\t Accuracy: 94.35%\t Precision: 0.95\t Recall: 0.95\t F1 Score: 0.95\n",
      "[k = 6]\t Accuracy: 93.49%\t Precision: 0.95\t Recall: 0.93\t F1 Score: 0.94\n",
      "[k = 7]\t Accuracy: 93.76%\t Precision: 0.94\t Recall: 0.95\t F1 Score: 0.95\n",
      "[k = 8]\t Accuracy: 93.58%\t Precision: 0.95\t Recall: 0.94\t F1 Score: 0.94\n",
      "[k = 9]\t Accuracy: 93.53%\t Precision: 0.94\t Recall: 0.95\t F1 Score: 0.94\n",
      "[k = 10]\t Accuracy: 93.44%\t Precision: 0.94\t Recall: 0.94\t F1 Score: 0.94\n",
      "[k = 11]\t Accuracy: 93.85%\t Precision: 0.94\t Recall: 0.95\t F1 Score: 0.95\n",
      "[k = 12]\t Accuracy: 93.22%\t Precision: 0.95\t Recall: 0.93\t F1 Score: 0.94\n",
      "[k = 13]\t Accuracy: 93.53%\t Precision: 0.94\t Recall: 0.95\t F1 Score: 0.94\n",
      "[k = 14]\t Accuracy: 92.90%\t Precision: 0.94\t Recall: 0.93\t F1 Score: 0.94\n",
      "[k = 15]\t Accuracy: 92.90%\t Precision: 0.93\t Recall: 0.94\t F1 Score: 0.94\n"
     ]
    }
   ],
   "source": [
    "from sklearn.neighbors import KNeighborsClassifier\n",
    "\n",
    "print(\"k-NN Classifiers\\n====================================\")\n",
    "for k in np.linspace(1, 15, 15):\n",
    "    clf = KNeighborsClassifier(n_neighbors=int(k))\n",
    "    clf.fit(X_train, y_train)\n",
    "    \n",
    "    y_pred = clf.predict(X_valid)\n",
    "    acc = accuracy_score(y_valid, y_pred)*100\n",
    "    p, r, f1, _ = precision_recall_fscore_support(y_valid, y_pred, average=\"binary\")\n",
    "    print(\"[k = %d]\\t Accuracy: %.2f%%\\t Precision: %.2f\\t Recall: %.2f\\t F1 Score: %.2f\" % (k, acc, p, r, f1))"
   ]
  },
  {
   "cell_type": "markdown",
   "metadata": {},
   "source": [
    "#### For best model: k = 1 (Accuracy = 95.43% & F1 Score = 0.96)"
   ]
  },
  {
   "cell_type": "markdown",
   "metadata": {},
   "source": [
    "### Decision Tree:"
   ]
  },
  {
   "cell_type": "code",
   "execution_count": 64,
   "metadata": {},
   "outputs": [
    {
     "name": "stdout",
     "output_type": "stream",
     "text": [
      "Decision Tree with gini\n",
      "====================================\n"
     ]
    },
    {
     "data": {
      "image/png": "[encoded data removed]",
      "text/plain": [
       "<Figure size 432x288 with 1 Axes>"
      ]
     },
     "metadata": {
      "needs_background": "light"
     },
     "output_type": "display_data"
    },
    {
     "name": "stdout",
     "output_type": "stream",
     "text": [
      "[Criterion: gini] Best CCP: 0.000062\t Accuracy: 96.02%\t Precision: 0.96\t Recall: 0.97\t F1 Score: 0.97\n",
      "\n",
      "Decision Tree with entropy\n",
      "====================================\n"
     ]
    },
    {
     "data": {
      "image/png": "[encoded data removed]",
      "text/plain": [
       "<Figure size 432x288 with 1 Axes>"
      ]
     },
     "metadata": {
      "needs_background": "light"
     },
     "output_type": "display_data"
    },
    {
     "name": "stdout",
     "output_type": "stream",
     "text": [
      "[Criterion: entropy] Best CCP: 0.000156\t Accuracy: 96.79%\t Precision: 0.97\t Recall: 0.98\t F1 Score: 0.97\n",
      "\n"
     ]
    }
   ],
   "source": [
    "from sklearn.tree import DecisionTreeClassifier\n",
    "\n",
    "for criterion in [\"gini\", \"entropy\"]:\n",
    "    print(f\"Decision Tree with {criterion}\\n====================================\")\n",
    "    clf = DecisionTreeClassifier(criterion=criterion, random_state=42)\n",
    "    path = clf.cost_complexity_pruning_path(X_train, y_train)\n",
    "    ccp_alphas = path.ccp_alphas\n",
    "    \n",
    "    clfs = []\n",
    "    for ccp_alpha in ccp_alphas:\n",
    "        clf = DecisionTreeClassifier(criterion=criterion, random_state=42, ccp_alpha=ccp_alpha)\n",
    "        clf.fit(X_train, y_train)\n",
    "        clfs.append(clf)\n",
    "\n",
    "    train_scores = [clf.score(X_train, y_train) for clf in clfs]\n",
    "    valid_scores = [clf.score(X_valid, y_valid) for clf in clfs]\n",
    "\n",
    "    fig, ax = plt.subplots()\n",
    "    ax.set_xlabel(\"alpha\")\n",
    "    ax.set_ylabel(\"accuracy\")\n",
    "    ax.set_title(f\"Accuracy vs alpha for training and validation sets [{criterion}]\")\n",
    "    ax.plot(ccp_alphas, train_scores, marker='o', label=\"training\",\n",
    "            drawstyle=\"steps-post\")\n",
    "    ax.plot(ccp_alphas, valid_scores, marker='o', label=\"validation\",\n",
    "            drawstyle=\"steps-post\")\n",
    "    ax.set_xscale(\"log\")\n",
    "    ax.legend()\n",
    "    plt.show()\n",
    "    \n",
    "    best_model_index = len(valid_scores) - np.argmax(valid_scores[::-1]) - 1\n",
    "    \n",
    "    clf = clfs[best_model_index]\n",
    "    y_pred = clf.predict(X_valid)\n",
    "    acc = accuracy_score(y_valid, y_pred)*100\n",
    "    p, r, f1, _ = precision_recall_fscore_support(y_valid, y_pred, average=\"binary\")\n",
    "    \n",
    "    print(f\"[Criterion: {criterion}] Best CCP: %.6f\\t Accuracy: %.2f%%\\t Precision: %.2f\\t Recall: %.2f\\t F1 Score: %.2f\\n\" % (ccp_alphas[best_model_index], acc, p, r, f1))"
   ]
  },
  {
   "cell_type": "markdown",
   "metadata": {},
   "source": [
    "### Random Forests:"
   ]
  },
  {
   "cell_type": "code",
   "execution_count": 68,
   "metadata": {},
   "outputs": [
    {
     "name": "stdout",
     "output_type": "stream",
     "text": [
      "Random Forests Classifier\n",
      "====================================\n",
      "[N_Est: 100\t Depth: 10]\t Accuracy: 95.30%\t Precision: 0.94\t Recall: 0.98\t F1 Score: 0.96\n",
      "[N_Est: 120\t Depth: 10]\t Accuracy: 95.25%\t Precision: 0.94\t Recall: 0.98\t F1 Score: 0.96\n",
      "[N_Est: 140\t Depth: 10]\t Accuracy: 95.25%\t Precision: 0.94\t Recall: 0.98\t F1 Score: 0.96\n",
      "[N_Est: 160\t Depth: 10]\t Accuracy: 95.25%\t Precision: 0.94\t Recall: 0.98\t F1 Score: 0.96\n",
      "[N_Est: 180\t Depth: 10]\t Accuracy: 95.21%\t Precision: 0.94\t Recall: 0.98\t F1 Score: 0.96\n",
      "[N_Est: 200\t Depth: 10]\t Accuracy: 95.21%\t Precision: 0.94\t Recall: 0.98\t F1 Score: 0.96\n",
      "[N_Est: 100\t Depth: 12]\t Accuracy: 95.79%\t Precision: 0.95\t Recall: 0.98\t F1 Score: 0.96\n",
      "[N_Est: 120\t Depth: 12]\t Accuracy: 95.79%\t Precision: 0.95\t Recall: 0.98\t F1 Score: 0.96\n",
      "[N_Est: 140\t Depth: 12]\t Accuracy: 95.75%\t Precision: 0.95\t Recall: 0.98\t F1 Score: 0.96\n",
      "[N_Est: 160\t Depth: 12]\t Accuracy: 95.75%\t Precision: 0.95\t Recall: 0.98\t F1 Score: 0.96\n",
      "[N_Est: 180\t Depth: 12]\t Accuracy: 95.75%\t Precision: 0.95\t Recall: 0.98\t F1 Score: 0.96\n",
      "[N_Est: 200\t Depth: 12]\t Accuracy: 95.75%\t Precision: 0.95\t Recall: 0.98\t F1 Score: 0.96\n",
      "[N_Est: 100\t Depth: 14]\t Accuracy: 96.38%\t Precision: 0.96\t Recall: 0.98\t F1 Score: 0.97\n",
      "[N_Est: 120\t Depth: 14]\t Accuracy: 96.29%\t Precision: 0.96\t Recall: 0.98\t F1 Score: 0.97\n",
      "[N_Est: 140\t Depth: 14]\t Accuracy: 96.29%\t Precision: 0.96\t Recall: 0.98\t F1 Score: 0.97\n",
      "[N_Est: 160\t Depth: 14]\t Accuracy: 96.38%\t Precision: 0.96\t Recall: 0.98\t F1 Score: 0.97\n",
      "[N_Est: 180\t Depth: 14]\t Accuracy: 96.20%\t Precision: 0.96\t Recall: 0.98\t F1 Score: 0.97\n",
      "[N_Est: 200\t Depth: 14]\t Accuracy: 96.25%\t Precision: 0.96\t Recall: 0.98\t F1 Score: 0.97\n",
      "[N_Est: 100\t Depth: 16]\t Accuracy: 96.56%\t Precision: 0.96\t Recall: 0.98\t F1 Score: 0.97\n",
      "[N_Est: 120\t Depth: 16]\t Accuracy: 96.70%\t Precision: 0.96\t Recall: 0.98\t F1 Score: 0.97\n",
      "[N_Est: 140\t Depth: 16]\t Accuracy: 96.70%\t Precision: 0.96\t Recall: 0.98\t F1 Score: 0.97\n",
      "[N_Est: 160\t Depth: 16]\t Accuracy: 96.70%\t Precision: 0.96\t Recall: 0.98\t F1 Score: 0.97\n",
      "[N_Est: 180\t Depth: 16]\t Accuracy: 96.61%\t Precision: 0.96\t Recall: 0.98\t F1 Score: 0.97\n",
      "[N_Est: 200\t Depth: 16]\t Accuracy: 96.61%\t Precision: 0.96\t Recall: 0.98\t F1 Score: 0.97\n",
      "[N_Est: 100\t Depth: 18]\t Accuracy: 96.92%\t Precision: 0.96\t Recall: 0.98\t F1 Score: 0.97\n",
      "[N_Est: 120\t Depth: 18]\t Accuracy: 96.92%\t Precision: 0.96\t Recall: 0.99\t F1 Score: 0.97\n",
      "[N_Est: 140\t Depth: 18]\t Accuracy: 96.88%\t Precision: 0.96\t Recall: 0.99\t F1 Score: 0.97\n",
      "[N_Est: 160\t Depth: 18]\t Accuracy: 96.79%\t Precision: 0.96\t Recall: 0.98\t F1 Score: 0.97\n",
      "[N_Est: 180\t Depth: 18]\t Accuracy: 96.79%\t Precision: 0.96\t Recall: 0.98\t F1 Score: 0.97\n",
      "[N_Est: 200\t Depth: 18]\t Accuracy: 96.92%\t Precision: 0.96\t Recall: 0.99\t F1 Score: 0.97\n",
      "[N_Est: 100\t Depth: 20]\t Accuracy: 96.74%\t Precision: 0.96\t Recall: 0.98\t F1 Score: 0.97\n",
      "[N_Est: 120\t Depth: 20]\t Accuracy: 96.70%\t Precision: 0.96\t Recall: 0.98\t F1 Score: 0.97\n",
      "[N_Est: 140\t Depth: 20]\t Accuracy: 96.65%\t Precision: 0.96\t Recall: 0.98\t F1 Score: 0.97\n",
      "[N_Est: 160\t Depth: 20]\t Accuracy: 96.61%\t Precision: 0.96\t Recall: 0.98\t F1 Score: 0.97\n",
      "[N_Est: 180\t Depth: 20]\t Accuracy: 96.61%\t Precision: 0.96\t Recall: 0.98\t F1 Score: 0.97\n",
      "[N_Est: 200\t Depth: 20]\t Accuracy: 96.74%\t Precision: 0.96\t Recall: 0.98\t F1 Score: 0.97\n"
     ]
    }
   ],
   "source": [
    "from sklearn.ensemble import RandomForestClassifier\n",
    "\n",
    "print(\"Random Forests Classifier\\n====================================\")\n",
    "for d in np.arange(10, 22, 2):\n",
    "    for n in np.arange(100, 220, 20):\n",
    "        clf = RandomForestClassifier(n_estimators=n, criterion=\"entropy\", max_depth=d, random_state=42)\n",
    "        clf.fit(X_train, y_train)\n",
    "\n",
    "        y_pred = clf.predict(X_valid)\n",
    "        acc = accuracy_score(y_valid, y_pred)*100\n",
    "        p, r, f1, _ = precision_recall_fscore_support(y_valid, y_pred, average=\"binary\")\n",
    "        print(\"[N_Est: %d\\t Depth: %d]\\t Accuracy: %.2f%%\\t Precision: %.2f\\t Recall: %.2f\\t F1 Score: %.2f\" % (n, d, acc, p, r, f1))"
   ]
  },
  {
   "cell_type": "markdown",
   "metadata": {},
   "source": [
    "#### For best model: Number of Estimators = 100, Depth = 18 (Accuracy = 96.61% & F1 Score = 0.97)"
   ]
  },
  {
   "cell_type": "markdown",
   "metadata": {},
   "source": [
    "### Gradient Boosting:"
   ]
  },
  {
   "cell_type": "code",
   "execution_count": 85,
   "metadata": {},
   "outputs": [
    {
     "name": "stdout",
     "output_type": "stream",
     "text": [
      "Gradient Boosting Classifiers\n",
      "====================================\n",
      "[N_Est: 100\t Learning Rate: 0.0100\t Depth:3]\t Accuracy: 92.31%\t Precision: 0.93\t Recall: 0.94\t F1 Score: 0.93\n",
      "[N_Est: 100\t Learning Rate: 0.0100\t Depth:5]\t Accuracy: 93.76%\t Precision: 0.92\t Recall: 0.97\t F1 Score: 0.95\n",
      "[N_Est: 100\t Learning Rate: 0.0100\t Depth:10]\t Accuracy: 95.66%\t Precision: 0.96\t Recall: 0.96\t F1 Score: 0.96\n",
      "[N_Est: 100\t Learning Rate: 0.0100\t Depth:15]\t Accuracy: 95.79%\t Precision: 0.96\t Recall: 0.97\t F1 Score: 0.96\n",
      "[N_Est: 100\t Learning Rate: 0.0100\t Depth:20]\t Accuracy: 95.70%\t Precision: 0.96\t Recall: 0.97\t F1 Score: 0.96\n",
      "[N_Est: 150\t Learning Rate: 0.0100\t Depth:3]\t Accuracy: 92.76%\t Precision: 0.93\t Recall: 0.95\t F1 Score: 0.94\n",
      "[N_Est: 150\t Learning Rate: 0.0100\t Depth:5]\t Accuracy: 93.80%\t Precision: 0.93\t Recall: 0.97\t F1 Score: 0.95\n",
      "[N_Est: 150\t Learning Rate: 0.0100\t Depth:10]\t Accuracy: 96.11%\t Precision: 0.96\t Recall: 0.97\t F1 Score: 0.97\n",
      "[N_Est: 150\t Learning Rate: 0.0100\t Depth:15]\t Accuracy: 95.79%\t Precision: 0.96\t Recall: 0.97\t F1 Score: 0.96\n",
      "[N_Est: 150\t Learning Rate: 0.0100\t Depth:20]\t Accuracy: 95.70%\t Precision: 0.96\t Recall: 0.97\t F1 Score: 0.96\n",
      "[N_Est: 200\t Learning Rate: 0.0100\t Depth:3]\t Accuracy: 92.85%\t Precision: 0.93\t Recall: 0.95\t F1 Score: 0.94\n",
      "[N_Est: 200\t Learning Rate: 0.0100\t Depth:5]\t Accuracy: 93.44%\t Precision: 0.93\t Recall: 0.96\t F1 Score: 0.94\n",
      "[N_Est: 200\t Learning Rate: 0.0100\t Depth:10]\t Accuracy: 96.25%\t Precision: 0.96\t Recall: 0.97\t F1 Score: 0.97\n",
      "[N_Est: 200\t Learning Rate: 0.0100\t Depth:15]\t Accuracy: 95.93%\t Precision: 0.96\t Recall: 0.97\t F1 Score: 0.96\n",
      "[N_Est: 200\t Learning Rate: 0.0100\t Depth:20]\t Accuracy: 95.79%\t Precision: 0.96\t Recall: 0.97\t F1 Score: 0.96\n",
      "[N_Est: 100\t Learning Rate: 0.0316\t Depth:3]\t Accuracy: 92.99%\t Precision: 0.93\t Recall: 0.95\t F1 Score: 0.94\n",
      "[N_Est: 100\t Learning Rate: 0.0316\t Depth:5]\t Accuracy: 94.89%\t Precision: 0.94\t Recall: 0.97\t F1 Score: 0.96\n",
      "[N_Est: 100\t Learning Rate: 0.0316\t Depth:10]\t Accuracy: 96.47%\t Precision: 0.96\t Recall: 0.98\t F1 Score: 0.97\n",
      "[N_Est: 100\t Learning Rate: 0.0316\t Depth:15]\t Accuracy: 96.16%\t Precision: 0.96\t Recall: 0.97\t F1 Score: 0.97\n",
      "[N_Est: 100\t Learning Rate: 0.0316\t Depth:20]\t Accuracy: 95.70%\t Precision: 0.96\t Recall: 0.97\t F1 Score: 0.96\n",
      "[N_Est: 150\t Learning Rate: 0.0316\t Depth:3]\t Accuracy: 93.85%\t Precision: 0.94\t Recall: 0.95\t F1 Score: 0.95\n",
      "[N_Est: 150\t Learning Rate: 0.0316\t Depth:5]\t Accuracy: 95.34%\t Precision: 0.95\t Recall: 0.97\t F1 Score: 0.96\n",
      "[N_Est: 150\t Learning Rate: 0.0316\t Depth:10]\t Accuracy: 96.92%\t Precision: 0.96\t Recall: 0.98\t F1 Score: 0.97\n",
      "[N_Est: 150\t Learning Rate: 0.0316\t Depth:15]\t Accuracy: 96.07%\t Precision: 0.96\t Recall: 0.97\t F1 Score: 0.97\n",
      "[N_Est: 150\t Learning Rate: 0.0316\t Depth:20]\t Accuracy: 95.84%\t Precision: 0.96\t Recall: 0.97\t F1 Score: 0.96\n",
      "[N_Est: 200\t Learning Rate: 0.0316\t Depth:3]\t Accuracy: 94.57%\t Precision: 0.94\t Recall: 0.96\t F1 Score: 0.95\n",
      "[N_Est: 200\t Learning Rate: 0.0316\t Depth:5]\t Accuracy: 95.52%\t Precision: 0.95\t Recall: 0.97\t F1 Score: 0.96\n",
      "[N_Est: 200\t Learning Rate: 0.0316\t Depth:10]\t Accuracy: 96.79%\t Precision: 0.96\t Recall: 0.98\t F1 Score: 0.97\n",
      "[N_Est: 200\t Learning Rate: 0.0316\t Depth:15]\t Accuracy: 96.34%\t Precision: 0.97\t Recall: 0.97\t F1 Score: 0.97\n",
      "[N_Est: 200\t Learning Rate: 0.0316\t Depth:20]\t Accuracy: 95.84%\t Precision: 0.96\t Recall: 0.97\t F1 Score: 0.96\n",
      "[N_Est: 100\t Learning Rate: 0.1000\t Depth:3]\t Accuracy: 95.07%\t Precision: 0.95\t Recall: 0.96\t F1 Score: 0.96\n",
      "[N_Est: 100\t Learning Rate: 0.1000\t Depth:5]\t Accuracy: 96.11%\t Precision: 0.96\t Recall: 0.98\t F1 Score: 0.97\n",
      "[N_Est: 100\t Learning Rate: 0.1000\t Depth:10]\t Accuracy: 96.88%\t Precision: 0.96\t Recall: 0.98\t F1 Score: 0.97\n",
      "[N_Est: 100\t Learning Rate: 0.1000\t Depth:15]\t Accuracy: 96.47%\t Precision: 0.97\t Recall: 0.97\t F1 Score: 0.97\n",
      "[N_Est: 100\t Learning Rate: 0.1000\t Depth:20]\t Accuracy: 95.97%\t Precision: 0.96\t Recall: 0.97\t F1 Score: 0.96\n",
      "[N_Est: 150\t Learning Rate: 0.1000\t Depth:3]\t Accuracy: 95.52%\t Precision: 0.95\t Recall: 0.97\t F1 Score: 0.96\n",
      "[N_Est: 150\t Learning Rate: 0.1000\t Depth:5]\t Accuracy: 96.47%\t Precision: 0.96\t Recall: 0.98\t F1 Score: 0.97\n",
      "[N_Est: 150\t Learning Rate: 0.1000\t Depth:10]\t Accuracy: 96.79%\t Precision: 0.97\t Recall: 0.98\t F1 Score: 0.97\n",
      "[N_Est: 150\t Learning Rate: 0.1000\t Depth:15]\t Accuracy: 96.74%\t Precision: 0.97\t Recall: 0.98\t F1 Score: 0.97\n",
      "[N_Est: 150\t Learning Rate: 0.1000\t Depth:20]\t Accuracy: 96.16%\t Precision: 0.96\t Recall: 0.97\t F1 Score: 0.97\n",
      "[N_Est: 200\t Learning Rate: 0.1000\t Depth:3]\t Accuracy: 95.97%\t Precision: 0.96\t Recall: 0.97\t F1 Score: 0.96\n",
      "[N_Est: 200\t Learning Rate: 0.1000\t Depth:5]\t Accuracy: 96.74%\t Precision: 0.96\t Recall: 0.98\t F1 Score: 0.97\n",
      "[N_Est: 200\t Learning Rate: 0.1000\t Depth:10]\t Accuracy: 96.70%\t Precision: 0.96\t Recall: 0.98\t F1 Score: 0.97\n",
      "[N_Est: 200\t Learning Rate: 0.1000\t Depth:15]\t Accuracy: 96.74%\t Precision: 0.97\t Recall: 0.98\t F1 Score: 0.97\n",
      "[N_Est: 200\t Learning Rate: 0.1000\t Depth:20]\t Accuracy: 96.34%\t Precision: 0.96\t Recall: 0.97\t F1 Score: 0.97\n",
      "[N_Est: 100\t Learning Rate: 0.3162\t Depth:3]\t Accuracy: 95.97%\t Precision: 0.95\t Recall: 0.98\t F1 Score: 0.96\n",
      "[N_Est: 100\t Learning Rate: 0.3162\t Depth:5]\t Accuracy: 97.06%\t Precision: 0.96\t Recall: 0.99\t F1 Score: 0.97\n",
      "[N_Est: 100\t Learning Rate: 0.3162\t Depth:10]\t Accuracy: 96.70%\t Precision: 0.96\t Recall: 0.98\t F1 Score: 0.97\n",
      "[N_Est: 100\t Learning Rate: 0.3162\t Depth:15]\t Accuracy: 96.83%\t Precision: 0.97\t Recall: 0.98\t F1 Score: 0.97\n",
      "[N_Est: 100\t Learning Rate: 0.3162\t Depth:20]\t Accuracy: 96.47%\t Precision: 0.96\t Recall: 0.97\t F1 Score: 0.97\n",
      "[N_Est: 150\t Learning Rate: 0.3162\t Depth:3]\t Accuracy: 96.16%\t Precision: 0.96\t Recall: 0.98\t F1 Score: 0.97\n",
      "[N_Est: 150\t Learning Rate: 0.3162\t Depth:5]\t Accuracy: 97.01%\t Precision: 0.96\t Recall: 0.99\t F1 Score: 0.97\n",
      "[N_Est: 150\t Learning Rate: 0.3162\t Depth:10]\t Accuracy: 96.88%\t Precision: 0.97\t Recall: 0.98\t F1 Score: 0.97\n",
      "[N_Est: 150\t Learning Rate: 0.3162\t Depth:15]\t Accuracy: 96.88%\t Precision: 0.97\t Recall: 0.98\t F1 Score: 0.97\n",
      "[N_Est: 150\t Learning Rate: 0.3162\t Depth:20]\t Accuracy: 96.56%\t Precision: 0.97\t Recall: 0.97\t F1 Score: 0.97\n",
      "[N_Est: 200\t Learning Rate: 0.3162\t Depth:3]\t Accuracy: 96.43%\t Precision: 0.96\t Recall: 0.98\t F1 Score: 0.97\n",
      "[N_Est: 200\t Learning Rate: 0.3162\t Depth:5]\t Accuracy: 97.01%\t Precision: 0.96\t Recall: 0.98\t F1 Score: 0.97\n",
      "[N_Est: 200\t Learning Rate: 0.3162\t Depth:10]\t Accuracy: 96.88%\t Precision: 0.97\t Recall: 0.98\t F1 Score: 0.97\n",
      "[N_Est: 200\t Learning Rate: 0.3162\t Depth:15]\t Accuracy: 97.01%\t Precision: 0.97\t Recall: 0.98\t F1 Score: 0.97\n",
      "[N_Est: 200\t Learning Rate: 0.3162\t Depth:20]\t Accuracy: 96.61%\t Precision: 0.97\t Recall: 0.97\t F1 Score: 0.97\n",
      "[N_Est: 100\t Learning Rate: 1.0000\t Depth:3]\t Accuracy: 96.34%\t Precision: 0.96\t Recall: 0.98\t F1 Score: 0.97\n",
      "[N_Est: 100\t Learning Rate: 1.0000\t Depth:5]\t Accuracy: 96.74%\t Precision: 0.96\t Recall: 0.98\t F1 Score: 0.97\n",
      "[N_Est: 100\t Learning Rate: 1.0000\t Depth:10]\t Accuracy: 96.43%\t Precision: 0.96\t Recall: 0.97\t F1 Score: 0.97\n",
      "[N_Est: 100\t Learning Rate: 1.0000\t Depth:15]\t Accuracy: 96.70%\t Precision: 0.97\t Recall: 0.97\t F1 Score: 0.97\n",
      "[N_Est: 100\t Learning Rate: 1.0000\t Depth:20]\t Accuracy: 96.56%\t Precision: 0.97\t Recall: 0.97\t F1 Score: 0.97\n",
      "[N_Est: 150\t Learning Rate: 1.0000\t Depth:3]\t Accuracy: 96.56%\t Precision: 0.96\t Recall: 0.98\t F1 Score: 0.97\n",
      "[N_Est: 150\t Learning Rate: 1.0000\t Depth:5]\t Accuracy: 96.43%\t Precision: 0.96\t Recall: 0.98\t F1 Score: 0.97\n",
      "[N_Est: 150\t Learning Rate: 1.0000\t Depth:10]\t Accuracy: 96.56%\t Precision: 0.97\t Recall: 0.97\t F1 Score: 0.97\n",
      "[N_Est: 150\t Learning Rate: 1.0000\t Depth:15]\t Accuracy: 96.52%\t Precision: 0.97\t Recall: 0.96\t F1 Score: 0.97\n",
      "[N_Est: 150\t Learning Rate: 1.0000\t Depth:20]\t Accuracy: 96.20%\t Precision: 0.97\t Recall: 0.96\t F1 Score: 0.97\n",
      "[N_Est: 200\t Learning Rate: 1.0000\t Depth:3]\t Accuracy: 96.92%\t Precision: 0.97\t Recall: 0.98\t F1 Score: 0.97\n",
      "[N_Est: 200\t Learning Rate: 1.0000\t Depth:5]\t Accuracy: 96.52%\t Precision: 0.96\t Recall: 0.98\t F1 Score: 0.97\n",
      "[N_Est: 200\t Learning Rate: 1.0000\t Depth:10]\t Accuracy: 96.25%\t Precision: 0.97\t Recall: 0.96\t F1 Score: 0.97\n",
      "[N_Est: 200\t Learning Rate: 1.0000\t Depth:15]\t Accuracy: 96.43%\t Precision: 0.97\t Recall: 0.96\t F1 Score: 0.97\n"
     ]
    },
    {
     "name": "stdout",
     "output_type": "stream",
     "text": [
      "[N_Est: 200\t Learning Rate: 1.0000\t Depth:20]\t Accuracy: 96.07%\t Precision: 0.98\t Recall: 0.95\t F1 Score: 0.96\n"
     ]
    }
   ],
   "source": [
    "from sklearn.ensemble import GradientBoostingClassifier\n",
    "\n",
    "print(\"Gradient Boosting Classifiers\\n====================================\")\n",
    "for lr in np.logspace(-2, 0, 5):\n",
    "    for n in [100, 150, 200]:\n",
    "        for md in [3, 5, 10, 15, 20]:\n",
    "            clf = GradientBoostingClassifier(n_estimators=n, learning_rate=lr, max_depth=md, random_state=42)\n",
    "            clf.fit(X_train, y_train)\n",
    "\n",
    "            y_pred = clf.predict(X_valid)\n",
    "            acc = accuracy_score(y_valid, y_pred)*100\n",
    "            p, r, f1, _ = precision_recall_fscore_support(y_valid, y_pred, average=\"binary\")\n",
    "            print(\"[N_Est: %d\\t Learning Rate: %.4f\\t Depth:%d]\\t Accuracy: %.2f%%\\t Precision: %.2f\\t Recall: %.2f\\t F1 Score: %.2f\" % (n, lr, md, acc, p, r, f1))"
   ]
  },
  {
   "cell_type": "markdown",
   "metadata": {},
   "source": [
    "#### For best model: Number of Estimators = 100, Learning Rate = 0.3162, Depth = 5 (Accuracy = 97.06% & F1 Score = 0.97)"
   ]
  },
  {
   "cell_type": "markdown",
   "metadata": {},
   "source": [
    "## Feature Analysis of Best Model (Gradient Boosting):"
   ]
  },
  {
   "cell_type": "code",
   "execution_count": 7,
   "metadata": {},
   "outputs": [],
   "source": [
    "clf_best = GradientBoostingClassifier(n_estimators=100, learning_rate=np.power(0.1, 0.5), max_depth=5, random_state=42)\n",
    "clf_best.fit(X_train, y_train)\n",
    "\n",
    "feature_imp = clf_best.feature_importances_\n",
    "feature_rank = np.argsort(clf_best.feature_importances_)\n",
    "features = df.columns[:-1][feature_rank][::-1]                    # Features in decreasing order of importance"
   ]
  },
  {
   "cell_type": "code",
   "execution_count": 131,
   "metadata": {},
   "outputs": [
    {
     "name": "stdout",
     "output_type": "stream",
     "text": [
      "Number of features: 30\t Accuracy: 97.29%\n",
      "Number of features: 28\t Accuracy: 97.31%\n",
      "Number of features: 26\t Accuracy: 97.25%\n",
      "Number of features: 24\t Accuracy: 97.16%\n",
      "Number of features: 22\t Accuracy: 97.15%\n",
      "Number of features: 20\t Accuracy: 96.98%\n",
      "Number of features: 18\t Accuracy: 96.84%\n",
      "Number of features: 16\t Accuracy: 96.28%\n",
      "Number of features: 14\t Accuracy: 95.83%\n",
      "Number of features: 12\t Accuracy: 95.28%\n",
      "Number of features: 10\t Accuracy: 94.46%\n",
      "Number of features: 8\t Accuracy: 93.89%\n",
      "Number of features: 6\t Accuracy: 92.32%\n"
     ]
    }
   ],
   "source": [
    "from sklearn.model_selection import cross_val_score\n",
    "\n",
    "for i in range(30, 5, -2):\n",
    "    feature_df_subset = df[features[:i]]\n",
    "    \n",
    "    X = feature_df_subset.values[:, :-1]\n",
    "    y = df.values[:, -1]\n",
    "    \n",
    "    clf = GradientBoostingClassifier(n_estimators=100, learning_rate=np.power(0.1, 0.5), max_depth=5, random_state=42)\n",
    "    \n",
    "    # Now, we use k-fold cross validation\n",
    "    score = np.mean(cross_val_score(clf, X, y, cv=10))*100\n",
    "    \n",
    "    print(\"Number of features: %d\\t Accuracy: %.2f%%\" % (i, score))\n"
   ]
  },
  {
   "cell_type": "markdown",
   "metadata": {},
   "source": [
    "### Analysis:\n",
    "\n",
    "We see a tradeoff between accuracy & number of features used. Yet, we notice that decreasing the number of features to 20 does not drastically reduce the accuracy.\n",
    "\n",
    "Thus, we could go ahead with the Top 20 most important features."
   ]
  },
  {
   "cell_type": "code",
   "execution_count": 8,
   "metadata": {},
   "outputs": [
    {
     "name": "stdout",
     "output_type": "stream",
     "text": [
      "Top 20 Most Important Features for Phishing Detection:\n",
      "1 \t SSLfinal_State\n",
      "2 \t URL_of_Anchor\n",
      "3 \t Links_in_tags\n",
      "4 \t web_traffic\n",
      "5 \t Prefix_Suffix\n",
      "6 \t having_Sub_Domain\n",
      "7 \t SFH\n",
      "8 \t Request_URL\n",
      "9 \t Links_pointing_to_page\n",
      "10 \t Google_Index\n",
      "11 \t URL_Length\n",
      "12 \t DNSRecord\n",
      "13 \t Domain_registeration_length\n",
      "14 \t having_IP_Address\n",
      "15 \t HTTPS_token\n",
      "16 \t Page_Rank\n",
      "17 \t age_of_domain\n",
      "18 \t popUpWidnow\n",
      "19 \t Iframe\n",
      "20 \t on_mouseover\n"
     ]
    }
   ],
   "source": [
    "print(\"Top 20 Most Important Features for Phishing Detection:\")\n",
    "for i, feature in enumerate(features[:20]):\n",
    "    print(i+1, \"\\t\", feature)"
   ]
  },
  {
   "cell_type": "markdown",
   "metadata": {},
   "source": [
    "## Training & Saving the Final Model"
   ]
  },
  {
   "cell_type": "code",
   "execution_count": 9,
   "metadata": {},
   "outputs": [
    {
     "data": {
      "text/plain": [
       "GradientBoostingClassifier(learning_rate=0.31622776601683794, max_depth=5,\n",
       "                           random_state=42)"
      ]
     },
     "execution_count": 9,
     "metadata": {},
     "output_type": "execute_result"
    }
   ],
   "source": [
    "feature_df_subset = df[features[:20]]\n",
    "X = feature_df_subset.values\n",
    "y = df.values[:, -1]\n",
    "best_model = GradientBoostingClassifier(n_estimators=100, learning_rate=np.power(0.1, 0.5), max_depth=5, random_state=42)\n",
    "best_model.fit(X, y)"
   ]
  },
  {
   "cell_type": "code",
   "execution_count": 10,
   "metadata": {},
   "outputs": [],
   "source": [
    "import pickle\n",
    "pickle.dump(best_model, open(\"phishing_website_detection_model.sav\", \"wb\"))"
   ]
  }
 ],
 "metadata": {
  "kernelspec": {
   "display_name": "Python 3",
   "language": "python",
   "name": "python3"
  },
  "language_info": {
   "codemirror_mode": {
    "name": "ipython",
    "version": 3
   },
   "file_extension": ".py",
   "mimetype": "text/x-python",
   "name": "python",
   "nbconvert_exporter": "python",
   "pygments_lexer": "ipython3",
   "version": "3.7.7"
  }
 },
 "nbformat": 4,
 "nbformat_minor": 4
}
